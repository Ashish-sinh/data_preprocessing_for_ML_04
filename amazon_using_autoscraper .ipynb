{
 "cells": [
  {
   "cell_type": "markdown",
   "id": "daaf3d0d",
   "metadata": {},
   "source": [
    "# Amazone web scrapping"
   ]
  },
  {
   "cell_type": "code",
   "execution_count": 1,
   "id": "c1764243",
   "metadata": {},
   "outputs": [],
   "source": [
    "from autoscraper import AutoScraper \n",
    "import pandas as pd "
   ]
  },
  {
   "cell_type": "code",
   "execution_count": 2,
   "id": "4a2dc849",
   "metadata": {},
   "outputs": [],
   "source": [
    "url = \"https://www.amazon.in/s?k=iphone&crid=70BTOR8DU5SE&sprefix=iphone+%2Caps%2C313&ref=nb_sb_noss_2\"\n",
    "wanted_list = ['Apple iPhone 12 (64GB) - (Product) RED','₹53,999']\n",
    "\n",
    "# make a scraper object and build it on give data: \n",
    "scraper = AutoScraper() \n",
    "result = scraper.build(url, wanted_list) "
   ]
  },
  {
   "cell_type": "code",
   "execution_count": 7,
   "id": "7bbc2ac1",
   "metadata": {},
   "outputs": [
    {
     "data": {
      "text/plain": [
       "{'rule_gmk9': ['Apple iPhone 12 (64GB) - (Product) RED',\n",
       "  'Apple iPhone 14 (128 GB) - (Product) RED'],\n",
       " 'rule_jp55': ['₹70,999',\n",
       "  '₹79,900',\n",
       "  '₹61,999',\n",
       "  '₹79,900',\n",
       "  '₹53,999',\n",
       "  '₹59,900',\n",
       "  '₹1,49,900',\n",
       "  '₹18,999',\n",
       "  '₹29,999',\n",
       "  '₹1,27,999',\n",
       "  '₹1,39,900',\n",
       "  '₹79,999',\n",
       "  '₹89,900',\n",
       "  '₹18,999',\n",
       "  '₹29,999',\n",
       "  '₹1,19,999',\n",
       "  '₹1,29,900',\n",
       "  '₹49,900',\n",
       "  '₹74,900',\n",
       "  '₹79,900',\n",
       "  '₹1,19,999',\n",
       "  '₹1,29,900',\n",
       "  '₹84,900',\n",
       "  '₹89,900',\n",
       "  '₹1,29,999',\n",
       "  '₹1,39,900',\n",
       "  '₹1,01,999',\n",
       "  '₹1,09,900',\n",
       "  '₹89,999',\n",
       "  '₹99,900'],\n",
       " 'rule_pvun': ['₹70,999',\n",
       "  '₹79,900',\n",
       "  '₹61,999',\n",
       "  '₹79,900',\n",
       "  '₹53,999',\n",
       "  '₹59,900',\n",
       "  '₹1,49,900',\n",
       "  '₹18,999',\n",
       "  '₹29,999',\n",
       "  '₹1,27,999',\n",
       "  '₹1,39,900',\n",
       "  '₹79,999',\n",
       "  '₹89,900',\n",
       "  '₹18,999',\n",
       "  '₹29,999',\n",
       "  '₹1,19,999',\n",
       "  '₹1,29,900',\n",
       "  '₹49,900',\n",
       "  '₹74,900',\n",
       "  '₹79,900',\n",
       "  '₹1,19,999',\n",
       "  '₹1,29,900',\n",
       "  '₹84,900',\n",
       "  '₹89,900',\n",
       "  '₹1,29,999',\n",
       "  '₹1,39,900',\n",
       "  '₹1,01,999',\n",
       "  '₹1,09,900',\n",
       "  '₹89,999',\n",
       "  '₹99,900'],\n",
       " 'rule_jc8y': ['₹53,999', '₹59,900', '₹70,999', '₹79,900'],\n",
       " 'rule_1yxx': ['₹53,999', '₹59,900', '₹70,999', '₹79,900']}"
      ]
     },
     "execution_count": 7,
     "metadata": {},
     "output_type": "execute_result"
    }
   ],
   "source": [
    "# for given data we got the similer result \n",
    "scraper.get_result_similar(url, grouped= True)"
   ]
  },
  {
   "cell_type": "code",
   "execution_count": 10,
   "id": "18f13d6a",
   "metadata": {},
   "outputs": [],
   "source": [
    "# now define the rules from that we can acsess the data :\n",
    "scraper.set_rule_aliases({'rule_jp55':'price','rule_gmk9':'name'}) \n",
    "scraper.keep_rules(['rule_jp55','rule_gmk9'])\n",
    "scraper.save('search_iphone')"
   ]
  },
  {
   "cell_type": "code",
   "execution_count": 11,
   "id": "88261a7b",
   "metadata": {},
   "outputs": [],
   "source": [
    "# after defining rule we get the try in new url : \n",
    "new_url = \"https://www.amazon.in/s?k=realme&crid=1WWGY7DRAO73M&sprefix=%2Caps%2C643&ref=nb_sb_noss_2\"\n",
    "new_result = scraper.get_result_similar(new_url,group_by_alias=True)"
   ]
  },
  {
   "cell_type": "code",
   "execution_count": 15,
   "id": "a53c2807",
   "metadata": {},
   "outputs": [],
   "source": [
    "df = pd.DataFrame()\n",
    "df['product_name'] = new_result['name']\n",
    "price = [] \n",
    "for i in new_result['price'] : \n",
    "    price.append(i)\n",
    "df['product_price'] = price[:2]"
   ]
  },
  {
   "cell_type": "code",
   "execution_count": 16,
   "id": "96f1b621",
   "metadata": {},
   "outputs": [],
   "source": [
    "# make modification on dataframe : \n",
    "\n",
    "df['product_price']  = df['product_price'].str.replace('₹','')\n",
    "df['product_price'] = df['product_price'].str.replace(',','') \n",
    "df['product_price']  = pd.to_numeric(df['product_price'], errors= 'ignore')\n"
   ]
  },
  {
   "cell_type": "code",
   "execution_count": 17,
   "id": "149d2206",
   "metadata": {},
   "outputs": [
    {
     "data": {
      "text/html": [
       "<div>\n",
       "<style scoped>\n",
       "    .dataframe tbody tr th:only-of-type {\n",
       "        vertical-align: middle;\n",
       "    }\n",
       "\n",
       "    .dataframe tbody tr th {\n",
       "        vertical-align: top;\n",
       "    }\n",
       "\n",
       "    .dataframe thead th {\n",
       "        text-align: right;\n",
       "    }\n",
       "</style>\n",
       "<table border=\"1\" class=\"dataframe\">\n",
       "  <thead>\n",
       "    <tr style=\"text-align: right;\">\n",
       "      <th></th>\n",
       "      <th>product_name</th>\n",
       "      <th>product_price</th>\n",
       "    </tr>\n",
       "  </thead>\n",
       "  <tbody>\n",
       "    <tr>\n",
       "      <th>0</th>\n",
       "      <td>Samsung Galaxy M04 Light Green, 4GB RAM, 64GB ...</td>\n",
       "      <td>6499</td>\n",
       "    </tr>\n",
       "    <tr>\n",
       "      <th>1</th>\n",
       "      <td>Redmi Note 12 5G Mystique Blue 4GB RAM 128GB R...</td>\n",
       "      <td>10999</td>\n",
       "    </tr>\n",
       "  </tbody>\n",
       "</table>\n",
       "</div>"
      ],
      "text/plain": [
       "                                        product_name  product_price\n",
       "0  Samsung Galaxy M04 Light Green, 4GB RAM, 64GB ...           6499\n",
       "1  Redmi Note 12 5G Mystique Blue 4GB RAM 128GB R...          10999"
      ]
     },
     "execution_count": 17,
     "metadata": {},
     "output_type": "execute_result"
    }
   ],
   "source": [
    "df"
   ]
  },
  {
   "cell_type": "code",
   "execution_count": null,
   "id": "63f881cb",
   "metadata": {},
   "outputs": [],
   "source": []
  },
  {
   "cell_type": "code",
   "execution_count": null,
   "id": "b20fe474",
   "metadata": {},
   "outputs": [],
   "source": []
  }
 ],
 "metadata": {
  "kernelspec": {
   "display_name": "Python 3 (ipykernel)",
   "language": "python",
   "name": "python3"
  },
  "language_info": {
   "codemirror_mode": {
    "name": "ipython",
    "version": 3
   },
   "file_extension": ".py",
   "mimetype": "text/x-python",
   "name": "python",
   "nbconvert_exporter": "python",
   "pygments_lexer": "ipython3",
   "version": "3.9.16"
  }
 },
 "nbformat": 4,
 "nbformat_minor": 5
}
