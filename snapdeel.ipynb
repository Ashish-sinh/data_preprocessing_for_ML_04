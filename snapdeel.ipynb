{
 "cells": [
  {
   "cell_type": "markdown",
   "id": "b50286cd",
   "metadata": {},
   "source": [
    "# web scrapping from the snapdeel website : "
   ]
  },
  {
   "cell_type": "code",
   "execution_count": 1,
   "id": "da75a0de",
   "metadata": {},
   "outputs": [],
   "source": [
    "import pandas as pd \n",
    "from bs4 import BeautifulSoup \n",
    "import requests "
   ]
  },
  {
   "cell_type": "code",
   "execution_count": 2,
   "id": "e07c29a6",
   "metadata": {},
   "outputs": [],
   "source": [
    "web_page = requests.get('https://www.snapdeal.com/').text\n",
    "\n",
    "soup = BeautifulSoup(web_page, 'lxml')"
   ]
  },
  {
   "cell_type": "code",
   "execution_count": 3,
   "id": "4a183cba",
   "metadata": {},
   "outputs": [],
   "source": [
    "product_name = soup.find_all('div' ,{'class' : 'product_name'} )\n",
    "\n",
    "product_names = [] \n",
    "\n",
    "for i in product_name : \n",
    "    product_names.append(i.text) "
   ]
  },
  {
   "cell_type": "code",
   "execution_count": 4,
   "id": "50e2daa7",
   "metadata": {},
   "outputs": [],
   "source": [
    "df = pd.DataFrame(product_names ) "
   ]
  },
  {
   "cell_type": "code",
   "execution_count": 5,
   "id": "355a49e2",
   "metadata": {},
   "outputs": [],
   "source": [
    "mrp = [] \n",
    "for i in soup.find_all('span' , {'class':'mrp'}) : \n",
    "    mrp.append(float(i.text[3:]))\n",
    "df['mrp'] = mrp"
   ]
  },
  {
   "cell_type": "code",
   "execution_count": 6,
   "id": "79444665",
   "metadata": {},
   "outputs": [],
   "source": [
    "discount = [] \n",
    "\n",
    "for i in soup.find_all('div' , {'class': 'product_disc'} ) : \n",
    "    discount.append(float(i.text[:2]) )\n",
    "discount\n",
    "\n",
    "df['discount_in (per%)']  = discount \n"
   ]
  },
  {
   "cell_type": "code",
   "execution_count": 10,
   "id": "36c3d9bd",
   "metadata": {},
   "outputs": [],
   "source": [
    "import re \n",
    "original_price = []  \n",
    "for i in soup.find_all('span', {'class' :'discount-price strike'}):\n",
    "    original_price.append(float(re.sub(',','',i.text[2:]))) \n",
    "                                # remove the coma from price\n",
    "\n",
    "df['original_price']  = original_price "
   ]
  },
  {
   "cell_type": "code",
   "execution_count": 11,
   "id": "0e6809d3",
   "metadata": {},
   "outputs": [],
   "source": [
    "df.rename(columns = { 0 : 'product_name'} , inplace = True)"
   ]
  },
  {
   "cell_type": "code",
   "execution_count": 12,
   "id": "4a207c69",
   "metadata": {},
   "outputs": [
    {
     "data": {
      "text/html": [
       "<div>\n",
       "<style scoped>\n",
       "    .dataframe tbody tr th:only-of-type {\n",
       "        vertical-align: middle;\n",
       "    }\n",
       "\n",
       "    .dataframe tbody tr th {\n",
       "        vertical-align: top;\n",
       "    }\n",
       "\n",
       "    .dataframe thead th {\n",
       "        text-align: right;\n",
       "    }\n",
       "</style>\n",
       "<table border=\"1\" class=\"dataframe\">\n",
       "  <thead>\n",
       "    <tr style=\"text-align: right;\">\n",
       "      <th></th>\n",
       "      <th>product_name</th>\n",
       "      <th>mrp</th>\n",
       "      <th>discount_in (per%)</th>\n",
       "      <th>original_price</th>\n",
       "    </tr>\n",
       "  </thead>\n",
       "  <tbody>\n",
       "    <tr>\n",
       "      <th>0</th>\n",
       "      <td>Bhawna Collection Loard Shiv Trishul Damru Loc...</td>\n",
       "      <td>155.0</td>\n",
       "      <td>69.0</td>\n",
       "      <td>499.0</td>\n",
       "    </tr>\n",
       "    <tr>\n",
       "      <th>1</th>\n",
       "      <td>Veirdo - Green Cotton Regular Fit Men's T-Shir...</td>\n",
       "      <td>299.0</td>\n",
       "      <td>75.0</td>\n",
       "      <td>1199.0</td>\n",
       "    </tr>\n",
       "    <tr>\n",
       "      <th>2</th>\n",
       "      <td>Stay Healthy - Foot Protector (Free Size)</td>\n",
       "      <td>95.0</td>\n",
       "      <td>84.0</td>\n",
       "      <td>599.0</td>\n",
       "    </tr>\n",
       "    <tr>\n",
       "      <th>3</th>\n",
       "      <td>Maxbell USB Rechargeable Electronic Flameless ...</td>\n",
       "      <td>159.0</td>\n",
       "      <td>68.0</td>\n",
       "      <td>499.0</td>\n",
       "    </tr>\n",
       "    <tr>\n",
       "      <th>4</th>\n",
       "      <td>Bentag kitchenware Vegetable &amp; Fruit Clever Cu...</td>\n",
       "      <td>161.0</td>\n",
       "      <td>61.0</td>\n",
       "      <td>410.0</td>\n",
       "    </tr>\n",
       "    <tr>\n",
       "      <th>5</th>\n",
       "      <td>David Miller White Dial Tan Brown PU  Strap Me...</td>\n",
       "      <td>299.0</td>\n",
       "      <td>67.0</td>\n",
       "      <td>899.0</td>\n",
       "    </tr>\n",
       "    <tr>\n",
       "      <th>6</th>\n",
       "      <td>Veirdo - Multicolor Cotton Regular Fit Men's T...</td>\n",
       "      <td>309.0</td>\n",
       "      <td>74.0</td>\n",
       "      <td>1199.0</td>\n",
       "    </tr>\n",
       "    <tr>\n",
       "      <th>7</th>\n",
       "      <td>ASIAN Brown Flip Flops</td>\n",
       "      <td>399.0</td>\n",
       "      <td>20.0</td>\n",
       "      <td>499.0</td>\n",
       "    </tr>\n",
       "    <tr>\n",
       "      <th>8</th>\n",
       "      <td>Battlestar Tummy Trimmer Double String Abdomin...</td>\n",
       "      <td>259.0</td>\n",
       "      <td>78.0</td>\n",
       "      <td>1199.0</td>\n",
       "    </tr>\n",
       "    <tr>\n",
       "      <th>9</th>\n",
       "      <td>DARK ROMANCE - Beige Faux Leather Men's Zip Ar...</td>\n",
       "      <td>239.0</td>\n",
       "      <td>76.0</td>\n",
       "      <td>999.0</td>\n",
       "    </tr>\n",
       "  </tbody>\n",
       "</table>\n",
       "</div>"
      ],
      "text/plain": [
       "                                        product_name    mrp  \\\n",
       "0  Bhawna Collection Loard Shiv Trishul Damru Loc...  155.0   \n",
       "1  Veirdo - Green Cotton Regular Fit Men's T-Shir...  299.0   \n",
       "2          Stay Healthy - Foot Protector (Free Size)   95.0   \n",
       "3  Maxbell USB Rechargeable Electronic Flameless ...  159.0   \n",
       "4  Bentag kitchenware Vegetable & Fruit Clever Cu...  161.0   \n",
       "5  David Miller White Dial Tan Brown PU  Strap Me...  299.0   \n",
       "6  Veirdo - Multicolor Cotton Regular Fit Men's T...  309.0   \n",
       "7                             ASIAN Brown Flip Flops  399.0   \n",
       "8  Battlestar Tummy Trimmer Double String Abdomin...  259.0   \n",
       "9  DARK ROMANCE - Beige Faux Leather Men's Zip Ar...  239.0   \n",
       "\n",
       "   discount_in (per%)  original_price  \n",
       "0                69.0           499.0  \n",
       "1                75.0          1199.0  \n",
       "2                84.0           599.0  \n",
       "3                68.0           499.0  \n",
       "4                61.0           410.0  \n",
       "5                67.0           899.0  \n",
       "6                74.0          1199.0  \n",
       "7                20.0           499.0  \n",
       "8                78.0          1199.0  \n",
       "9                76.0           999.0  "
      ]
     },
     "execution_count": 12,
     "metadata": {},
     "output_type": "execute_result"
    }
   ],
   "source": [
    "df"
   ]
  },
  {
   "cell_type": "code",
   "execution_count": null,
   "id": "715ce410",
   "metadata": {},
   "outputs": [],
   "source": []
  },
  {
   "cell_type": "code",
   "execution_count": null,
   "id": "badd8773",
   "metadata": {},
   "outputs": [],
   "source": []
  }
 ],
 "metadata": {
  "kernelspec": {
   "display_name": "Python 3 (ipykernel)",
   "language": "python",
   "name": "python3"
  },
  "language_info": {
   "codemirror_mode": {
    "name": "ipython",
    "version": 3
   },
   "file_extension": ".py",
   "mimetype": "text/x-python",
   "name": "python",
   "nbconvert_exporter": "python",
   "pygments_lexer": "ipython3",
   "version": "3.9.16"
  }
 },
 "nbformat": 4,
 "nbformat_minor": 5
}
